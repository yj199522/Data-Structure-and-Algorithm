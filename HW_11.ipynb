{
 "cells": [
  {
   "cell_type": "markdown",
   "metadata": {},
   "source": [
    "## Graph data structure\n",
    "## Copyright: Jagadeesh Vasudevamurthy\n",
    "## filename:graph.ipynb¶"
   ]
  },
  {
   "cell_type": "markdown",
   "metadata": {},
   "source": [
    "# All import here"
   ]
  },
  {
   "cell_type": "code",
   "execution_count": 1,
   "metadata": {},
   "outputs": [],
   "source": [
    "import sys # For getting Python Version\n",
    "import os\n",
    "import enum # For enum\n",
    "from IPython.display import IFrame\n",
    "'''\n",
    "from Graph import *\n",
    "from GraphType import *\n",
    "from GraphIO import *\n",
    "from GraphInOutDir import *\n",
    "'''\n",
    "DISPLAYPDFONSCREEN = True #GLOBAL variable. Only on jupyter make it True"
   ]
  },
  {
   "cell_type": "markdown",
   "metadata": {},
   "source": [
    "# Graph input and output directory setup\n",
    "# YOU MUST CHANGE 3 lines below"
   ]
  },
  {
   "cell_type": "code",
   "execution_count": 2,
   "metadata": {},
   "outputs": [],
   "source": [
    "class GraphInOutDir():\n",
    "    def __init__(self):\n",
    "        self.graph_files_directory = \"/Users/yashjain/Downloads/graphdata/\" \n",
    "        self.output_directory = \"/Users/yashjain/Downloads/graphdata/dot/\" \n",
    "        ##Note '\"\n",
    "        if (True): #make this to False, if U don't want to install dor\n",
    "            self.dot2pdf_exe = \"/opt/homebrew/bin/dot/\"\n",
    "        else:\n",
    "            print(\"YOU DID NOT INSTALL DOT.EXE\")\n",
    "            print(\"https://dreampuf.github.io/GraphvizOnline/#digraph%20G%20%7B%0A%0A%20%20subgraph%20cluster_0%20%7B%0A%20%20%20%20style%3Dfilled%3B%0A%20%20%20%20color%3Dlightgrey%3B%0A%20%20%20%20node%20%5Bstyle%3Dfilled%2Ccolor%3Dwhite%5D%3B%0A%20%20%20%20a0%20-%3E%20a1%20-%3E%20a2%20-%3E%20a3%3B%0A%20%20%20%20label%20%3D%20%22process%20%231%22%3B%0A%20%20%7D%0A%0A%20%20subgraph%20cluster_1%20%7B%0A%20%20%20%20node%20%5Bstyle%3Dfilled%5D%3B%0A%20%20%20%20b0%20-%3E%20b1%20-%3E%20b2%20-%3E%20b3%3B%0A%20%20%20%20label%20%3D%20%22process%20%232%22%3B%0A%20%20%20%20color%3Dblue%0A%20%20%7D%0A%20%20start%20-%3E%20a0%3B%0A%20%20start%20-%3E%20b0%3B%0A%20%20a1%20-%3E%20b3%3B%0A%20%20b2%20-%3E%20a3%3B%0A%20%20a3%20-%3E%20a0%3B%0A%20%20a3%20-%3E%20end%3B%0A%20%20b3%20-%3E%20end%3B%0A%0A%20%20start%20%5Bshape%3DMdiamond%5D%3B%0A%20%20end%20%5Bshape%3DMsquare%5D%3B%0A%7D\");\n",
    "            print(\"You need to run manually to get PDF file from dot files\")\n",
    "            self.dot2pdf_exe =\"\" \n",
    "        \n",
    "\n",
    "    ##################################################################\n",
    "    # NOTHING CAN BE CHANGED BELOW\n",
    "    ##################################################################\n",
    "        \n",
    "    ###################################################################\n",
    "    # Calling an dot2pdf executable\n",
    "    # \"C:/Program Files (x86)/Graphviz2.38/bin/dot.exe\" -Tpdf 13.dot -o 13.pdf\n",
    "    ###################################################################\n",
    "    def execute_dot_2_pdf(self, f:'string'):\n",
    "        if (len(f) and len(self.dot2pdf_exe)):\n",
    "            dot_file = f +\".dot\"\n",
    "            pdf_file = f +\".pdf\"\n",
    "            s = self.dot2pdf_exe + \" -Tpdf \" + dot_file + \" -o \" + pdf_file\n",
    "            print(\"Executing\", s)\n",
    "            os.system(s)\n",
    "            "
   ]
  },
  {
   "cell_type": "markdown",
   "metadata": {},
   "source": [
    "# YOU WRITE CODE HERE\n",
    "# Depth First serach using TimeStamp"
   ]
  },
  {
   "cell_type": "code",
   "execution_count": 3,
   "metadata": {},
   "outputs": [],
   "source": [
    "############################################################\n",
    "# GraphDot.py\n",
    "# Author: Jagadeesh Vasudevamurthy\n",
    "# Copyright: Jagadeesh Vasudevamurthy 2021\n",
    "###########################################################\n",
    "\n",
    "############################################################\n",
    "# Depth First serach using TimeStamp\n",
    "###########################################################\n",
    "class GraphDfsUsingTimeStamp():\n",
    "    def __init__(self,g:'graph',filename:'string',dfs_order:'list',has_loop:'list of size 1',work:'list of size 1',dfs_traversal_output_file):\n",
    "        ##NOTHING CAN BE CHANGED HERE\n",
    "        self._g = g\n",
    "        self._f = filename\n",
    "        self._dfs_order = dfs_order\n",
    "        self._has_loop = has_loop\n",
    "        self._has_loop[0] = False\n",
    "        self._work = work\n",
    "        self._order = []\n",
    "        self._work[0] = 0\n",
    "        self._count = 0\n",
    "        self._dfs_traversal_output_file = dfs_traversal_output_file\n",
    "        \n",
    "        ##YOU CAN has any number of private varibles and funcions     \n",
    "        self.dfsAlgo()\n",
    "        self.makeDot()\n",
    "    \n",
    "        \n",
    "    def dfsAlgo(self):\n",
    "        prevValue = -1\n",
    "        for n in self._g.nodes:\n",
    "            n.input = 0 \n",
    "            n.output = 0\n",
    "        for i in range(self._g.numV()):\n",
    "            if self._g.nodes[i].num not in self._order:\n",
    "                self.startDFS(self._g.nodes[i], 1, prevValue)\n",
    "        self._dfs_order.extend(self._order[::-1])\n",
    "    \n",
    "    def startDFS(self, node, counter, prevValue):\n",
    "        self._work[0]+=1\n",
    "        self._count+=1\n",
    "        node.input = self._count\n",
    "        for e in node.fanout.values():\n",
    "            if prevValue != e.other:\n",
    "                if self._g.gtype == GraphType.UNDIRECTED:\n",
    "                    prevValue = node.num\n",
    "                nextNode = self.findNode(e.other)\n",
    "                if nextNode.input > 0 and nextNode.output==0:\n",
    "                    self._has_loop[0] = True\n",
    "                    continue\n",
    "                if nextNode.num in self._order:\n",
    "                    continue\n",
    "                self._work[0]+=1\n",
    "                self.startDFS(self.findNode(e.other), counter + 1, prevValue)\n",
    "        self._count+=1\n",
    "        node.output = self._count\n",
    "        self._order.append(node.num)\n",
    "        \n",
    "        \n",
    "            \n",
    "    def findNode(self, value):\n",
    "        for n in self._g.nodes:\n",
    "            if n.num == value:\n",
    "                return n\n",
    "    \n",
    "    def makeDot(self):\n",
    "        self._of = open(self._dfs_traversal_output_file,'w')\n",
    "        print(\"See dot file at makeDot:\",self._dfs_traversal_output_file)\n",
    "        order = ''\n",
    "        for i in self._dfs_order:\n",
    "            order = order + ' ' + self._g.io.get_real_name(i)\n",
    "        self._of.write('## Yash Jain ####\\n## dot -Tpdf'+self._dfs_traversal_output_file+ ' -o '+self._dfs_traversal_output_file.split('.dot')[0]+'.pdf\\n');\n",
    "        hasLoop = 'LOOP'if self._has_loop[0] else 'NOLOOP'\n",
    "        self._of.write('digraph g {\\n label = \"['+ order +'] '+hasLoop+'\"\\n');\n",
    "        for n in self._g.nodes:\n",
    "            self._of.write(str(self._g.io.get_real_name(n.num))+'[label = <'+ str(self._g.io.get_real_name(n.num)) + '<BR/><FONT POINT-SIZE=\"10\">'+ str(n.input)+'/'+str(n.output)+'</FONT>>]\\n')\n",
    "        if ( (self._g.gtype == GraphType.UNDIRECTED) or  (self._g.gtype == GraphType.WEIGHTED_UNDIRECTED) ):\n",
    "            self._of.write(\"\\tedge [dir=none, color=red]\\n\")\n",
    "        else:\n",
    "            self._of.write(\"\\tedge [color=red]\\n\")\n",
    "        for node in self._g.nodes: \n",
    "            for aedge in node.fanout.values():\n",
    "                if ( ((self._g.gtype == GraphType.UNDIRECTED) and (node.num < aedge.other)) or (self._g.gtype == GraphType.DIRECTED) ):\n",
    "                    self._of.write('\\t')\n",
    "                    self._of.write(self._g.io.get_real_name(node.num))\n",
    "                    self._of.write(\"->\")\n",
    "                    self._of.write(self._g.io.get_real_name(aedge.other))\n",
    "                    self._of.write(\"\\n\");\n",
    "                else:\n",
    "                    if ( ((self._g.gtype == GraphType.WEIGHTED_UNDIRECTED) and (node.num < aedge.other)) or (self._g.gtype == GraphType.WEIGHTED_DIRECTED) ):\n",
    "                        self._of.write('\\t')\n",
    "                        self._of.write(self._g.io.get_real_name(node.num))\n",
    "                        self._of.write(\"->\")\n",
    "                        self._of.write(self._g.io.get_real_name(aedge.other))\n",
    "                        self._of.write(\"[label =\")\n",
    "                        self._of.write(str(aedge.cost))\n",
    "                        self._of.write(\"]\")\n",
    "                        self._of.write(\"\\n\");\n",
    "        self._of.write(\"}\")\n",
    "        self._of.close()\n",
    "        "
   ]
  },
  {
   "cell_type": "markdown",
   "metadata": {},
   "source": [
    "## NOTHING CAN BE CHANGED BELOW"
   ]
  },
  {
   "cell_type": "markdown",
   "metadata": {},
   "source": [
    "## Graph Types"
   ]
  },
  {
   "cell_type": "code",
   "execution_count": 4,
   "metadata": {},
   "outputs": [],
   "source": [
    "class GraphType(enum.Enum): \n",
    "    ##NOTHING CAN BE ADDED HERE\n",
    "    NONE = 0\n",
    "    UNDIRECTED = 1\n",
    "    DIRECTED = 2\n",
    "    WEIGHTED_UNDIRECTED = 3\n",
    "    WEIGHTED_DIRECTED  = 4"
   ]
  },
  {
   "cell_type": "markdown",
   "metadata": {},
   "source": [
    "## Input/output of Graph"
   ]
  },
  {
   "cell_type": "code",
   "execution_count": 5,
   "metadata": {},
   "outputs": [],
   "source": [
    "class GraphIO():\n",
    "    def __init__(self):\n",
    "        ##NOTHING CAN BE ADDED HERE\n",
    "        self._string2int = {} ## Dictionary. Key is string. Value is int in O(1)\n",
    "        self._int2string = [] ## Vector. Given an int get string in O(1)\n",
    "\n",
    "    ##########################################################\n",
    "    # TIME: THETA(1)\n",
    "    # SPACE: THETA(1)\n",
    "    ##########################################################\n",
    "    def insert_or_find(self,name:'string',mustbethere:'bool')->'int':\n",
    "        if (name in self._string2int):\n",
    "              return self._string2int.get(name)\n",
    "        if (mustbethere):\n",
    "              assert(False)\n",
    "        #Not in the dict. \n",
    "        n = len(self._string2int)\n",
    "        n1 = len(self._int2string)\n",
    "        assert(n == n1)\n",
    "        # Key is string. Value is a number between 0 to n-1. \n",
    "        # THETA(1)\n",
    "        self._string2int[name] = n  \n",
    "        ## Given a number get String in THETA(1)\n",
    "        self._int2string.append(name)\n",
    "        return n\n",
    "    \n",
    "    #########################################################\n",
    "    # TIME: THETA(1)\n",
    "    # SPACE: THETA(1)\n",
    "    #########################################################\n",
    "    def get_real_name(self,n:'int')->'string':\n",
    "        l = len(self._int2string)\n",
    "        assert(n >= 0 and n < l)\n",
    "        ## THETA(1)\n",
    "        return self._int2string[n]"
   ]
  },
  {
   "cell_type": "markdown",
   "metadata": {},
   "source": [
    "## Edge class"
   ]
  },
  {
   "cell_type": "code",
   "execution_count": 6,
   "metadata": {},
   "outputs": [],
   "source": [
    "class Edge():\n",
    "      def __init__(self, num:'int', cost:'double' = 0.0):\n",
    "        self.other = num     #Note global. Graph can access\n",
    "        self.cost = cost   #note global. Graph can access"
   ]
  },
  {
   "cell_type": "markdown",
   "metadata": {},
   "source": [
    "## Node class"
   ]
  },
  {
   "cell_type": "code",
   "execution_count": 7,
   "metadata": {},
   "outputs": [],
   "source": [
    "class Node():\n",
    "    def __init__(self, num:'int'):\n",
    "        self.num = num     #Note global. Graph can access\n",
    "        self.fanout = {}   ## Dictionary. Key is int(num). Value is edge \n",
    "        self.fanin = {}   ## Dictionary. Key is int(num). Value is edge\n",
    "\n",
    "    # Does this node has a fanout of 'n'\n",
    "    # Time: THETA(1) Space; THETA(1)\n",
    "    def has_a_fanout_edge(self, n:'int') ->'edge' :\n",
    "        if n in self.fanout.keys(): ##THETA(1) ## Key is int, Value is Edge\n",
    "            stored_edge = self.fanout[n] # O(1)\n",
    "            assert(stored_edge.other == n)\n",
    "            return stored_edge\n",
    "        return None\n",
    "      \n",
    "    # Does this node has a fanin of 'n'\n",
    "    # Time: THETA(1) Space; THETA(1)\n",
    "    def has_a_fanin_edge(self, n:'int') ->'edge' :\n",
    "        if n in self.fanin.keys(): ##THETA(1) ## Key is int, Value is Edge\n",
    "            stored_edge = self.fanin[n] # O(1)\n",
    "            assert(stored_edge.other == n)\n",
    "            return stored_edge\n",
    "        return None"
   ]
  },
  {
   "cell_type": "markdown",
   "metadata": {},
   "source": [
    "## Graph class"
   ]
  },
  {
   "cell_type": "code",
   "execution_count": 8,
   "metadata": {},
   "outputs": [],
   "source": [
    "class Graph():\n",
    "    def __init__(self, gtype:'GraphType', io:'GraphIO'):\n",
    "        ##NOTHING CAN BE ADDED HERE\n",
    "        self.gtype = gtype     #Note public\n",
    "        self.io = io    # Note public\n",
    "        self.nodes = []   ## list of nodes. ##Note public\n",
    "        self._num_edges = 0  #Numner of edges in the graph. For directed E and for Undirected 2E. Note private\n",
    "        \n",
    "     \n",
    "    ##########################################################\n",
    "    # All public functions. Nothing can be changed below\n",
    "    ##########################################################\n",
    "    \n",
    "    def numV(self):\n",
    "        return len(self.nodes)\n",
    "    \n",
    "    def numE(self):\n",
    "        return self._num_edges\n",
    "    \n",
    "    ##########################################################\n",
    "    # TIME: THETA(1)\n",
    "    # SPACE: THETA(1)\n",
    "    # Nothing can be changed\n",
    "    ##########################################################\n",
    "    def build_node_if_not_exist_and_append(self,n:'int')->'Node':\n",
    "        l = len(self.nodes)\n",
    "        assert(n >= 0)\n",
    "        if (n < l):\n",
    "            return self.nodes[n]\n",
    "        node = Node(n)\n",
    "        self.nodes.append(node)\n",
    "        return self.nodes[n]\n",
    "    \n",
    "    ##########################################################\n",
    "    # TIME: THETA(1)\n",
    "    # SPACE: THETA(1)\n",
    "    # Nothing can be changed\n",
    "    ##########################################################\n",
    "    def create_edge(self,n1:'Node',n2:'Node',w:'double',fanout:'bool'):\n",
    "        e = Edge(n2.num,w) #calls constructor of edge\n",
    "        if (fanout == True):\n",
    "            ## SEE e is already there in fanouts of node n1\n",
    "            stored_edge = n1.has_a_fanout_edge(n2.num)\n",
    "            if (stored_edge):\n",
    "                v = stored_edge.cost\n",
    "                if (w < v):\n",
    "                    stored_edge.cost = w  ##THETA(1)\n",
    "            else:\n",
    "                # First time\n",
    "                assert(e.other == n2.num) \n",
    "                n1.fanout[n2.num] = e  ## Key is int, Value is Edge\n",
    "                self._num_edges = self._num_edges + 1\n",
    "        else:\n",
    "            ## SEE e is already there in fanins nodes of n1\n",
    "            stored_edge = n1.has_a_fanin_edge(n2.num)\n",
    "            if (stored_edge):\n",
    "                v = stored_edge.cost\n",
    "                if (w < v):\n",
    "                    stored_edge.cost = w  ##THETA(1)\n",
    "            else:\n",
    "                # First time\n",
    "                assert(e.other == n2.num) \n",
    "                n1.fanin[n2.num] = e  ## Key is int, Value is Edge\n",
    " \n",
    "    ##########################################################\n",
    "    # Nothing can be changed\n",
    "    # TIME: THETA(V + E)\n",
    "    # SPACE: THETA(V)\n",
    "    ########################################################## \n",
    "    def assert_dfs_passed(self,has_loop:'list of size 1',dfs_order:'list'):\n",
    "        if ( (self.gtype == GraphType.UNDIRECTED) or  (self.gtype == GraphType.WEIGHTED_UNDIRECTED) ):\n",
    "            return\n",
    "        if (has_loop[0] == False):\n",
    "            v = self.numV()\n",
    "            visited = []\n",
    "            for i in range(v):\n",
    "                visited.append(False)\n",
    "            for i in dfs_order:\n",
    "                node = self.nodes[i]\n",
    "                for aedge in node.fanin.values():\n",
    "                   assert(visited[aedge.other] == True) \n",
    "                visited[node.num] = True\n",
    "            print(\"DFS ASSERT PASSED\")\n",
    "\n",
    "    \n",
    "    ##########################################################\n",
    "    # TIME: THETA(V + E)\n",
    "    # SPACE: THETA(V + E)\n",
    "    ##########################################################\n",
    "    def build_graph(self, f:'string'):\n",
    "        b = GraphBuilder(self,f)\n",
    "\n",
    "    ##########################################################\n",
    "    # TIME: THETA(V + E)\n",
    "    # SPACE: THETA(V + E)\n",
    "    ##########################################################\n",
    "    def dump(self,name:'string'):\n",
    "        b = GraphDump(self,name)\n",
    "        \n",
    "    ##########################################################\n",
    "    # TIME: THETA(V + E)\n",
    "    # SPACE: THETA(1)\n",
    "    ############################################################\n",
    "    def print_graph_as_dot_file(self, f:'string'):\n",
    "        b = GraphDot(self,f)\n",
    "        \n",
    "    ##########################################################\n",
    "    # TIME: THETA(V + E)\n",
    "    # SPACE: THETA(Largest path)\n",
    "    ############################################################\n",
    "    def dfs_using_time_stamp(self, f:'string',dfs_order:'list',has_loop:'list of size 1', work:'list of size 1',dfs_traversal_output_file:'string'):\n",
    "        b = GraphDfsUsingTimeStamp(self,f,dfs_order,has_loop,work,dfs_traversal_output_file)\n",
    "    "
   ]
  },
  {
   "cell_type": "markdown",
   "metadata": {},
   "source": [
    "## Graph Builder class"
   ]
  },
  {
   "cell_type": "code",
   "execution_count": 9,
   "metadata": {},
   "outputs": [],
   "source": [
    "class GraphBuilder():\n",
    "    def __init__(self,g:'graph',filename:'string'):\n",
    "        print(filename, 'filename')\n",
    "        self._g = g\n",
    "        self._f = filename\n",
    "        self._build()\n",
    "        \n",
    "    def _build(self):\n",
    "        notReadline = 0 \n",
    "        readline = 0 ;\n",
    "        with open(self._f, \"r\") as file: \n",
    "            data = file.readlines() \n",
    "            for aline in data: \n",
    "                token = aline.split() \n",
    "                size = len(token)\n",
    "                if ((size < 2) or (size > 3)):\n",
    "                    notReadline = notReadline + 1\n",
    "                    print(\"NOT READ LINE\", aline)\n",
    "                    continue\n",
    "                readline = readline + 1\n",
    "                if (size == 2):\n",
    "                      assert((self._g.gtype == GraphType.UNDIRECTED) or (self._g.gtype == GraphType.DIRECTED))\n",
    "                else:\n",
    "                      assert((self._g.gtype == GraphType.WEIGHTED_UNDIRECTED) or (self._g.gtype == GraphType.WEIGHTED_DIRECTED))\n",
    "                \n",
    "                ##########################################################\n",
    "                # WRITE YOUR CODE BELOW\n",
    "                ##########################################################                \n",
    "                v1 = self._g.io.insert_or_find(token[0], False);\n",
    "                v2 = self._g.io.insert_or_find(token[1], False); \n",
    "                # We will not allow self loop\n",
    "                if (v1 != v2):\n",
    "                    n1 = self._g.build_node_if_not_exist_and_append(v1)\n",
    "                    n2 = self._g.build_node_if_not_exist_and_append(v2)\n",
    "                    w = 0\n",
    "                    if (size == 3):\n",
    "                        w = float(token[2])\n",
    "                    ## n1 has a fanout of n2\n",
    "                    self._g.create_edge(n1,n2,w,True)\n",
    "                    # n2 has a fanin of n1\n",
    "                    self._g.create_edge(n2, n1, w, False) #fanin\n",
    "                    if ( (self._g.gtype == GraphType.UNDIRECTED) or  (self._g.gtype == GraphType.WEIGHTED_UNDIRECTED) ):\n",
    "                        ## n2 has a fanout of n1\n",
    "                        self._g.create_edge(n2,n1,w,True)\n",
    "                        # n1 has a fanin of n2\n",
    "                        self._g.create_edge(n1, n2,w,False) #fanin\n"
   ]
  },
  {
   "cell_type": "markdown",
   "metadata": {},
   "source": [
    "# DUMP GRAPH ON SCREEN AS A TEXT FILE"
   ]
  },
  {
   "cell_type": "code",
   "execution_count": 10,
   "metadata": {},
   "outputs": [],
   "source": [
    "class GraphDump():\n",
    "    def __init__(self,g:'graph',name:'string'):\n",
    "        #NOTHING CAN BE CHANGED HERE\n",
    "        self._g = g\n",
    "        self._title = name\n",
    "        self._dump()\n",
    "\n",
    "    \n",
    "    def _dump(self):\n",
    "        print(self._title)\n",
    "        ##WRITE YOUR CODE BELOW ##########\n",
    "        print(self._g.gtype)\n",
    "        print(\"Num Vertices =\" , self._g.numV())\n",
    "        print(\"Num Edges    =\" , self._g.numE())\n",
    "        numedge = 0 ;\n",
    "        for node in self._g.nodes:\n",
    "            print(self._g.io.get_real_name(node.num) , \"Fanouts: \", end =\"\") \n",
    "            l = len(node.fanout)\n",
    "            if (l == 0):\n",
    "                print(\"NONE\")\n",
    "            else:\n",
    "                j = 0 ;\n",
    "                for aedge in node.fanout.values(): ## Key is int, Value is Edge\n",
    "                    numedge = numedge + 1\n",
    "                    toname = self._g.io.get_real_name(aedge.other)\n",
    "                    if (j < l - 1):\n",
    "                        print(toname , \",\", sep =\"\",  end =\"\") \n",
    "                    else:\n",
    "                        print(toname)\n",
    "                    j = j + 1\n",
    "                    \n",
    "            print(self._g.io.get_real_name(node.num) , \"FanIns: \", end =\"\") \n",
    "            l = len(node.fanin)\n",
    "            if (l == 0):\n",
    "                print(\"NONE\")\n",
    "            else:\n",
    "                j = 0 ;\n",
    "                for aedge in node.fanin.values(): ##Key is int, Value is Edge\n",
    "                    toname = self._g.io.get_real_name(aedge.other)\n",
    "                    if (j < l - 1):\n",
    "                        print(toname , \",\", sep =\"\",  end =\"\") \n",
    "                    else:\n",
    "                        print(toname)\n",
    "                    j = j + 1       \n",
    "        assert(numedge == self._g.numE())"
   ]
  },
  {
   "cell_type": "markdown",
   "metadata": {},
   "source": [
    "## Print Graph as a dot file"
   ]
  },
  {
   "cell_type": "code",
   "execution_count": 11,
   "metadata": {},
   "outputs": [],
   "source": [
    "class GraphDot():\n",
    "    def __init__(self,g:'graph',filename:'string'):\n",
    "        ##NOTHING CAN BE CHANGED HERE\n",
    "        self._g = g\n",
    "        self._f = filename\n",
    "        self._of = open(self._f,'w')\n",
    "        self._write_dot()\n",
    "        \n",
    "    def _write_dot(self):\n",
    "        print(\"See dot file at:\",self._f)\n",
    "         ##########################################################\n",
    "         # WRITE YOUR CODE BELOW\n",
    "        ########################################################### \n",
    "        self._of.write(\"## Jagadeesh Vasudevamurthy ####\\n\");\n",
    "        self._of.write(\"digraph g {\\n\");\n",
    "        if ( (self._g.gtype == GraphType.UNDIRECTED) or  (self._g.gtype == GraphType.WEIGHTED_UNDIRECTED) ):\n",
    "            self._of.write(\"\\tedge [dir=none, color=red]\\n\")\n",
    "        else:\n",
    "            self._of.write(\"\\tedge [color=red]\\n\")\n",
    "        #Time complexity: THETA(V + E)\n",
    "        for node in self._g.nodes: \n",
    "            for aedge in node.fanout.values(): ## Key is int, Value is Edge\n",
    "                if ( ((self._g.gtype == GraphType.UNDIRECTED) and (node.num < aedge.other)) or (self._g.gtype == GraphType.DIRECTED) ):\n",
    "                    self._of.write('\\t')\n",
    "                    self._of.write(self._g.io.get_real_name(node.num))\n",
    "                    self._of.write(\"->\")\n",
    "                    self._of.write(self._g.io.get_real_name(aedge.other))\n",
    "                    self._of.write(\"\\n\");\n",
    "                else:\n",
    "                    if ( ((self._g.gtype == GraphType.WEIGHTED_UNDIRECTED) and (node.num < aedge.other)) or (self._g.gtype == GraphType.WEIGHTED_DIRECTED) ):\n",
    "                        self._of.write('\\t')\n",
    "                        self._of.write(self._g.io.get_real_name(node.num))\n",
    "                        self._of.write(\"->\")\n",
    "                        self._of.write(self._g.io.get_real_name(aedge.other))\n",
    "                        self._of.write(\"[label =\")\n",
    "                        self._of.write(str(aedge.cost))\n",
    "                        self._of.write(\"]\")\n",
    "                        self._of.write(\"\\n\");\n",
    "        self._of.write(\"}\")"
   ]
  },
  {
   "cell_type": "markdown",
   "metadata": {},
   "source": [
    "## Build graph from file and print graph as a dot file"
   ]
  },
  {
   "cell_type": "code",
   "execution_count": 12,
   "metadata": {},
   "outputs": [],
   "source": [
    "class Test_graph_build_and_write_as_dot():\n",
    "    def __init__(self):\n",
    "        self._test()\n",
    "        \n",
    "    def _test1(self,gname:'graphname',gtype:'GraphType', enodes:'int',eedges:'int'):\n",
    "        io = GraphIO();\n",
    "        iodir = GraphInOutDir();\n",
    "        print(iodir.graph_files_directory)\n",
    "        full_name = iodir.graph_files_directory + gname +\".txt\"\n",
    "        print(\"Building graph\",full_name)\n",
    "        g = Graph(gtype,io)\n",
    "        g.build_graph(full_name)\n",
    "        g.dump(full_name)\n",
    "        v = g.numV();\n",
    "        output_file = iodir.output_directory + gname\n",
    "        g.print_graph_as_dot_file(output_file +\".dot\")\n",
    "        if (enodes < 25):\n",
    "            iodir.execute_dot_2_pdf(output_file)\n",
    "            pdffile = output_file +\".pdf\"\n",
    "            print(pdffile)\n",
    "            rpath = os.path.relpath(pdffile)\n",
    "            if (DISPLAYPDFONSCREEN):\n",
    "                display(IFrame(rpath, width=800, height=400))\n",
    "        if (v != enodes):\n",
    "            print(\"This graph has\",enodes,\"nodes. But you are telling\",v,\"nodes\")\n",
    "            assert(v == enodes)\n",
    "        e = g.numE()\n",
    "        if (e != eedges):\n",
    "            print(\"This graph has\",eedges,\"edges. But you are telling\",e,\"edges\")\n",
    "            assert(g.numE() == eedges)\n",
    "            \n",
    "        \n",
    "    def _test(self):\n",
    "        g = [ [\"13\",GraphType.UNDIRECTED,7,24],\n",
    "              [\"14\",GraphType.WEIGHTED_UNDIRECTED,6,20] ,\n",
    "              [\"15\",GraphType.DIRECTED,6,6],\n",
    "              [\"16\",GraphType.WEIGHTED_DIRECTED,5,6],\n",
    "              [\"loopparallel\",GraphType.WEIGHTED_DIRECTED,4,3],\n",
    "              [\"cat\",GraphType.DIRECTED,6,7],\n",
    "              [\"hd2\",GraphType.WEIGHTED_DIRECTED,78,1095],\n",
    "            ] \n",
    "        \n",
    "        for g1 in g:\n",
    "            self._test1(g1[0],g1[1],g1[2],g1[3]) \n",
    "           "
   ]
  },
  {
   "cell_type": "markdown",
   "metadata": {},
   "source": [
    "# Test DFS implemented using Time stamp"
   ]
  },
  {
   "cell_type": "code",
   "execution_count": 13,
   "metadata": {},
   "outputs": [],
   "source": [
    "class Test_Dfs_using_time_stamp_alg():\n",
    "    def __init__(self):\n",
    "        self._show = False # Change to True for debugging\n",
    "        #self._test_one()\n",
    "        self._test()\n",
    "        \n",
    "    def _test1(self,gname:'graphname',gtype:'GraphType', expected_has_loop:'Bool'):\n",
    "        io = GraphIO();\n",
    "        iodir = GraphInOutDir();\n",
    "        print(iodir)\n",
    "        full_name = iodir.graph_files_directory + gname +\".txt\"\n",
    "        print(\"Building graph\",full_name)\n",
    "        g = Graph(gtype,io)\n",
    "        g.build_graph(full_name)\n",
    "        if (self._show):\n",
    "            g.dump(full_name)\n",
    "        dot_output_file = iodir.output_directory + gname\n",
    "        g.print_graph_as_dot_file(dot_output_file +\".dot\")\n",
    "        iodir.execute_dot_2_pdf(dot_output_file)\n",
    "        dot_pdffile = dot_output_file +\".pdf\"\n",
    "        print(dot_pdffile)\n",
    "        if (DISPLAYPDFONSCREEN):\n",
    "            rpath = os.path.relpath(dot_pdffile)\n",
    "            display(IFrame(rpath, width=800, height=400))\n",
    "         \n",
    "        dfs_order = [] #Caller will this array\n",
    "        has_loop = [False] # List of size 1\n",
    "        work = [0] # List of size 1\n",
    "        dfs_dot_output_file = iodir.output_directory + gname +\"dfs\"\n",
    "        g.dfs_using_time_stamp(gname,dfs_order,has_loop,work,dfs_dot_output_file + \".dot\") \n",
    "        iodir.execute_dot_2_pdf(dfs_dot_output_file)\n",
    "\n",
    "        print(\"DFS traversal is in\")\n",
    "        print(dfs_dot_output_file + \".pdf\")\n",
    "\n",
    "        print(\"DFS ORDER: \",end =\" \")\n",
    "        for i in dfs_order:\n",
    "            print(io.get_real_name(i),end =\" \")\n",
    "        print()\n",
    "        if (has_loop[0]):\n",
    "            print(\"LOOP\")\n",
    "        else:\n",
    "            print(\"NOLOOP\")\n",
    "        print(\"Work Done\",work[0])\n",
    "        assert(has_loop[0] == expected_has_loop)\n",
    "        g.assert_dfs_passed(has_loop,dfs_order)\n",
    "        if (DISPLAYPDFONSCREEN):\n",
    "            rpath = os.path.relpath(dfs_dot_output_file+\".pdf\")\n",
    "            display(IFrame(rpath, width=800, height=400))\n",
    "        \n",
    "    def _test_one(self):\n",
    "        g = [ [\"1\",GraphType.UNDIRECTED,False],\n",
    "            ] \n",
    "        \n",
    "        for g1 in g:\n",
    "            self._test1(g1[0],g1[1],g1[2])\n",
    "        \n",
    "    def _test(self):\n",
    "        g = [ \n",
    "            [\"u1\",GraphType.UNDIRECTED,False],\n",
    "              [\"1\",GraphType.UNDIRECTED,False] ,\n",
    "              [\"udf1\",GraphType.DIRECTED,True] ,\n",
    "              [\"2\",GraphType.DIRECTED,False],\n",
    "              [\"3\",GraphType.DIRECTED,True],\n",
    "              [\"cat\",GraphType.DIRECTED,False],\n",
    "              [\"7\",GraphType.WEIGHTED_DIRECTED,False],  \n",
    "            ] \n",
    "       \n",
    "        for g1 in g:\n",
    "            self._test1(g1[0],g1[1],g1[2]) \n"
   ]
  },
  {
   "cell_type": "markdown",
   "metadata": {},
   "source": [
    "## main"
   ]
  },
  {
   "cell_type": "code",
   "execution_count": 14,
   "metadata": {},
   "outputs": [],
   "source": [
    "def main():\n",
    "    print(\"Testing Graph starts\")\n",
    "    print(sys.version)\n",
    "    ops = {\n",
    "            1: Test_graph_build_and_write_as_dot,\n",
    "            2: Test_Dfs_using_time_stamp_alg,\n",
    "    }\n",
    "    chosen_operation_function = ops.get(2) ## CHANGE 1 depending on assignment given\n",
    "    chosen_operation_function();\n",
    "    \n",
    "    print(\"Testing Graph ends\")"
   ]
  },
  {
   "cell_type": "code",
   "execution_count": 15,
   "metadata": {
    "scrolled": false
   },
   "outputs": [
    {
     "name": "stdout",
     "output_type": "stream",
     "text": [
      "Testing Graph starts\n",
      "3.9.12 (main, Apr  5 2022, 01:52:34) \n",
      "[Clang 12.0.0 ]\n",
      "<__main__.GraphInOutDir object at 0x107372fa0>\n",
      "Building graph /Users/yashjain/Downloads/graphdata/u1.txt\n",
      "/Users/yashjain/Downloads/graphdata/u1.txt filename\n",
      "See dot file at: /Users/yashjain/Downloads/graphdata/dot/u1.dot\n",
      "Executing /opt/homebrew/bin/dot/ -Tpdf /Users/yashjain/Downloads/graphdata/dot/u1.dot -o /Users/yashjain/Downloads/graphdata/dot/u1.pdf\n",
      "/Users/yashjain/Downloads/graphdata/dot/u1.pdf\n"
     ]
    },
    {
     "data": {
      "text/html": [
       "\n",
       "        <iframe\n",
       "            width=\"800\"\n",
       "            height=\"400\"\n",
       "            src=\"graphdata/dot/u1.pdf\"\n",
       "            frameborder=\"0\"\n",
       "            allowfullscreen\n",
       "            \n",
       "        ></iframe>\n",
       "        "
      ],
      "text/plain": [
       "<IPython.lib.display.IFrame at 0x107372070>"
      ]
     },
     "metadata": {},
     "output_type": "display_data"
    },
    {
     "name": "stdout",
     "output_type": "stream",
     "text": [
      "See dot file at makeDot: /Users/yashjain/Downloads/graphdata/dot/u1dfs.dot\n",
      "Executing /opt/homebrew/bin/dot/ -Tpdf /Users/yashjain/Downloads/graphdata/dot/u1dfs.dot -o /Users/yashjain/Downloads/graphdata/dot/u1dfs.pdf\n",
      "DFS traversal is in\n",
      "/Users/yashjain/Downloads/graphdata/dot/u1dfs.pdf\n",
      "DFS ORDER:  0 1 \n",
      "NOLOOP\n",
      "Work Done 3\n"
     ]
    },
    {
     "data": {
      "text/html": [
       "\n",
       "        <iframe\n",
       "            width=\"800\"\n",
       "            height=\"400\"\n",
       "            src=\"graphdata/dot/u1dfs.pdf\"\n",
       "            frameborder=\"0\"\n",
       "            allowfullscreen\n",
       "            \n",
       "        ></iframe>\n",
       "        "
      ],
      "text/plain": [
       "<IPython.lib.display.IFrame at 0x1073655e0>"
      ]
     },
     "metadata": {},
     "output_type": "display_data"
    },
    {
     "name": "stdout",
     "output_type": "stream",
     "text": [
      "<__main__.GraphInOutDir object at 0x107365f40>\n",
      "Building graph /Users/yashjain/Downloads/graphdata/1.txt\n",
      "/Users/yashjain/Downloads/graphdata/1.txt filename\n",
      "See dot file at: /Users/yashjain/Downloads/graphdata/dot/1.dot\n",
      "Executing /opt/homebrew/bin/dot/ -Tpdf /Users/yashjain/Downloads/graphdata/dot/1.dot -o /Users/yashjain/Downloads/graphdata/dot/1.pdf\n",
      "/Users/yashjain/Downloads/graphdata/dot/1.pdf\n"
     ]
    },
    {
     "data": {
      "text/html": [
       "\n",
       "        <iframe\n",
       "            width=\"800\"\n",
       "            height=\"400\"\n",
       "            src=\"graphdata/dot/1.pdf\"\n",
       "            frameborder=\"0\"\n",
       "            allowfullscreen\n",
       "            \n",
       "        ></iframe>\n",
       "        "
      ],
      "text/plain": [
       "<IPython.lib.display.IFrame at 0x107372ac0>"
      ]
     },
     "metadata": {},
     "output_type": "display_data"
    },
    {
     "name": "stdout",
     "output_type": "stream",
     "text": [
      "See dot file at makeDot: /Users/yashjain/Downloads/graphdata/dot/1dfs.dot\n",
      "Executing /opt/homebrew/bin/dot/ -Tpdf /Users/yashjain/Downloads/graphdata/dot/1dfs.dot -o /Users/yashjain/Downloads/graphdata/dot/1dfs.pdf\n",
      "DFS traversal is in\n",
      "/Users/yashjain/Downloads/graphdata/dot/1dfs.pdf\n",
      "DFS ORDER:  1 3 5 4 2 \n",
      "NOLOOP\n",
      "Work Done 9\n"
     ]
    },
    {
     "data": {
      "text/html": [
       "\n",
       "        <iframe\n",
       "            width=\"800\"\n",
       "            height=\"400\"\n",
       "            src=\"graphdata/dot/1dfs.pdf\"\n",
       "            frameborder=\"0\"\n",
       "            allowfullscreen\n",
       "            \n",
       "        ></iframe>\n",
       "        "
      ],
      "text/plain": [
       "<IPython.lib.display.IFrame at 0x10735eb20>"
      ]
     },
     "metadata": {},
     "output_type": "display_data"
    },
    {
     "name": "stdout",
     "output_type": "stream",
     "text": [
      "<__main__.GraphInOutDir object at 0x107303d30>\n",
      "Building graph /Users/yashjain/Downloads/graphdata/udf1.txt\n",
      "/Users/yashjain/Downloads/graphdata/udf1.txt filename\n",
      "NOT READ LINE \n",
      "\n",
      "See dot file at: /Users/yashjain/Downloads/graphdata/dot/udf1.dot\n",
      "Executing /opt/homebrew/bin/dot/ -Tpdf /Users/yashjain/Downloads/graphdata/dot/udf1.dot -o /Users/yashjain/Downloads/graphdata/dot/udf1.pdf\n",
      "/Users/yashjain/Downloads/graphdata/dot/udf1.pdf\n"
     ]
    },
    {
     "data": {
      "text/html": [
       "\n",
       "        <iframe\n",
       "            width=\"800\"\n",
       "            height=\"400\"\n",
       "            src=\"graphdata/dot/udf1.pdf\"\n",
       "            frameborder=\"0\"\n",
       "            allowfullscreen\n",
       "            \n",
       "        ></iframe>\n",
       "        "
      ],
      "text/plain": [
       "<IPython.lib.display.IFrame at 0x107372ee0>"
      ]
     },
     "metadata": {},
     "output_type": "display_data"
    },
    {
     "name": "stdout",
     "output_type": "stream",
     "text": [
      "See dot file at makeDot: /Users/yashjain/Downloads/graphdata/dot/udf1dfs.dot\n",
      "Executing /opt/homebrew/bin/dot/ -Tpdf /Users/yashjain/Downloads/graphdata/dot/udf1dfs.dot -o /Users/yashjain/Downloads/graphdata/dot/udf1dfs.pdf\n",
      "DFS traversal is in\n",
      "/Users/yashjain/Downloads/graphdata/dot/udf1dfs.pdf\n",
      "DFS ORDER:  0 1 3 5 4 2 \n",
      "LOOP\n",
      "Work Done 11\n"
     ]
    },
    {
     "data": {
      "text/html": [
       "\n",
       "        <iframe\n",
       "            width=\"800\"\n",
       "            height=\"400\"\n",
       "            src=\"graphdata/dot/udf1dfs.pdf\"\n",
       "            frameborder=\"0\"\n",
       "            allowfullscreen\n",
       "            \n",
       "        ></iframe>\n",
       "        "
      ],
      "text/plain": [
       "<IPython.lib.display.IFrame at 0x1073653d0>"
      ]
     },
     "metadata": {},
     "output_type": "display_data"
    },
    {
     "name": "stdout",
     "output_type": "stream",
     "text": [
      "<__main__.GraphInOutDir object at 0x107372730>\n",
      "Building graph /Users/yashjain/Downloads/graphdata/2.txt\n",
      "/Users/yashjain/Downloads/graphdata/2.txt filename\n",
      "See dot file at: /Users/yashjain/Downloads/graphdata/dot/2.dot\n",
      "Executing /opt/homebrew/bin/dot/ -Tpdf /Users/yashjain/Downloads/graphdata/dot/2.dot -o /Users/yashjain/Downloads/graphdata/dot/2.pdf\n",
      "/Users/yashjain/Downloads/graphdata/dot/2.pdf\n"
     ]
    },
    {
     "data": {
      "text/html": [
       "\n",
       "        <iframe\n",
       "            width=\"800\"\n",
       "            height=\"400\"\n",
       "            src=\"graphdata/dot/2.pdf\"\n",
       "            frameborder=\"0\"\n",
       "            allowfullscreen\n",
       "            \n",
       "        ></iframe>\n",
       "        "
      ],
      "text/plain": [
       "<IPython.lib.display.IFrame at 0x107372310>"
      ]
     },
     "metadata": {},
     "output_type": "display_data"
    },
    {
     "name": "stdout",
     "output_type": "stream",
     "text": [
      "See dot file at makeDot: /Users/yashjain/Downloads/graphdata/dot/2dfs.dot\n",
      "Executing /opt/homebrew/bin/dot/ -Tpdf /Users/yashjain/Downloads/graphdata/dot/2dfs.dot -o /Users/yashjain/Downloads/graphdata/dot/2dfs.pdf\n",
      "DFS traversal is in\n",
      "/Users/yashjain/Downloads/graphdata/dot/2dfs.pdf\n",
      "DFS ORDER:  1 3 2 4 5 \n",
      "NOLOOP\n",
      "Work Done 9\n",
      "DFS ASSERT PASSED\n"
     ]
    },
    {
     "data": {
      "text/html": [
       "\n",
       "        <iframe\n",
       "            width=\"800\"\n",
       "            height=\"400\"\n",
       "            src=\"graphdata/dot/2dfs.pdf\"\n",
       "            frameborder=\"0\"\n",
       "            allowfullscreen\n",
       "            \n",
       "        ></iframe>\n",
       "        "
      ],
      "text/plain": [
       "<IPython.lib.display.IFrame at 0x107365b80>"
      ]
     },
     "metadata": {},
     "output_type": "display_data"
    },
    {
     "name": "stdout",
     "output_type": "stream",
     "text": [
      "<__main__.GraphInOutDir object at 0x107365160>\n",
      "Building graph /Users/yashjain/Downloads/graphdata/3.txt\n",
      "/Users/yashjain/Downloads/graphdata/3.txt filename\n",
      "See dot file at: /Users/yashjain/Downloads/graphdata/dot/3.dot\n",
      "Executing /opt/homebrew/bin/dot/ -Tpdf /Users/yashjain/Downloads/graphdata/dot/3.dot -o /Users/yashjain/Downloads/graphdata/dot/3.pdf\n",
      "/Users/yashjain/Downloads/graphdata/dot/3.pdf\n"
     ]
    },
    {
     "data": {
      "text/html": [
       "\n",
       "        <iframe\n",
       "            width=\"800\"\n",
       "            height=\"400\"\n",
       "            src=\"graphdata/dot/3.pdf\"\n",
       "            frameborder=\"0\"\n",
       "            allowfullscreen\n",
       "            \n",
       "        ></iframe>\n",
       "        "
      ],
      "text/plain": [
       "<IPython.lib.display.IFrame at 0x107365730>"
      ]
     },
     "metadata": {},
     "output_type": "display_data"
    },
    {
     "name": "stdout",
     "output_type": "stream",
     "text": [
      "See dot file at makeDot: /Users/yashjain/Downloads/graphdata/dot/3dfs.dot\n",
      "Executing /opt/homebrew/bin/dot/ -Tpdf /Users/yashjain/Downloads/graphdata/dot/3dfs.dot -o /Users/yashjain/Downloads/graphdata/dot/3dfs.pdf\n",
      "DFS traversal is in\n",
      "/Users/yashjain/Downloads/graphdata/dot/3dfs.pdf\n",
      "DFS ORDER:  0 1 3 4 2 \n",
      "LOOP\n",
      "Work Done 9\n"
     ]
    },
    {
     "data": {
      "text/html": [
       "\n",
       "        <iframe\n",
       "            width=\"800\"\n",
       "            height=\"400\"\n",
       "            src=\"graphdata/dot/3dfs.pdf\"\n",
       "            frameborder=\"0\"\n",
       "            allowfullscreen\n",
       "            \n",
       "        ></iframe>\n",
       "        "
      ],
      "text/plain": [
       "<IPython.lib.display.IFrame at 0x1073720d0>"
      ]
     },
     "metadata": {},
     "output_type": "display_data"
    },
    {
     "name": "stdout",
     "output_type": "stream",
     "text": [
      "<__main__.GraphInOutDir object at 0x107303ca0>\n",
      "Building graph /Users/yashjain/Downloads/graphdata/cat.txt\n",
      "/Users/yashjain/Downloads/graphdata/cat.txt filename\n",
      "NOT READ LINE \n",
      "\n",
      "See dot file at: /Users/yashjain/Downloads/graphdata/dot/cat.dot\n",
      "Executing /opt/homebrew/bin/dot/ -Tpdf /Users/yashjain/Downloads/graphdata/dot/cat.dot -o /Users/yashjain/Downloads/graphdata/dot/cat.pdf\n",
      "/Users/yashjain/Downloads/graphdata/dot/cat.pdf\n"
     ]
    },
    {
     "data": {
      "text/html": [
       "\n",
       "        <iframe\n",
       "            width=\"800\"\n",
       "            height=\"400\"\n",
       "            src=\"graphdata/dot/cat.pdf\"\n",
       "            frameborder=\"0\"\n",
       "            allowfullscreen\n",
       "            \n",
       "        ></iframe>\n",
       "        "
      ],
      "text/plain": [
       "<IPython.lib.display.IFrame at 0x107372310>"
      ]
     },
     "metadata": {},
     "output_type": "display_data"
    },
    {
     "name": "stdout",
     "output_type": "stream",
     "text": [
      "See dot file at makeDot: /Users/yashjain/Downloads/graphdata/dot/catdfs.dot\n",
      "Executing /opt/homebrew/bin/dot/ -Tpdf /Users/yashjain/Downloads/graphdata/dot/catdfs.dot -o /Users/yashjain/Downloads/graphdata/dot/catdfs.pdf\n",
      "DFS traversal is in\n",
      "/Users/yashjain/Downloads/graphdata/dot/catdfs.pdf\n",
      "DFS ORDER:  Cab Cat Mat Car Bar Bat \n",
      "NOLOOP\n",
      "Work Done 10\n",
      "DFS ASSERT PASSED\n"
     ]
    },
    {
     "data": {
      "text/html": [
       "\n",
       "        <iframe\n",
       "            width=\"800\"\n",
       "            height=\"400\"\n",
       "            src=\"graphdata/dot/catdfs.pdf\"\n",
       "            frameborder=\"0\"\n",
       "            allowfullscreen\n",
       "            \n",
       "        ></iframe>\n",
       "        "
      ],
      "text/plain": [
       "<IPython.lib.display.IFrame at 0x107372310>"
      ]
     },
     "metadata": {},
     "output_type": "display_data"
    },
    {
     "name": "stdout",
     "output_type": "stream",
     "text": [
      "<__main__.GraphInOutDir object at 0x107303f70>\n",
      "Building graph /Users/yashjain/Downloads/graphdata/7.txt\n",
      "/Users/yashjain/Downloads/graphdata/7.txt filename\n",
      "NOT READ LINE  \n",
      "See dot file at: /Users/yashjain/Downloads/graphdata/dot/7.dot\n",
      "Executing /opt/homebrew/bin/dot/ -Tpdf /Users/yashjain/Downloads/graphdata/dot/7.dot -o /Users/yashjain/Downloads/graphdata/dot/7.pdf\n",
      "/Users/yashjain/Downloads/graphdata/dot/7.pdf\n"
     ]
    },
    {
     "data": {
      "text/html": [
       "\n",
       "        <iframe\n",
       "            width=\"800\"\n",
       "            height=\"400\"\n",
       "            src=\"graphdata/dot/7.pdf\"\n",
       "            frameborder=\"0\"\n",
       "            allowfullscreen\n",
       "            \n",
       "        ></iframe>\n",
       "        "
      ],
      "text/plain": [
       "<IPython.lib.display.IFrame at 0x1073658e0>"
      ]
     },
     "metadata": {},
     "output_type": "display_data"
    },
    {
     "name": "stdout",
     "output_type": "stream",
     "text": [
      "See dot file at makeDot: /Users/yashjain/Downloads/graphdata/dot/7dfs.dot\n",
      "Executing /opt/homebrew/bin/dot/ -Tpdf /Users/yashjain/Downloads/graphdata/dot/7dfs.dot -o /Users/yashjain/Downloads/graphdata/dot/7dfs.pdf\n",
      "DFS traversal is in\n",
      "/Users/yashjain/Downloads/graphdata/dot/7dfs.pdf\n",
      "DFS ORDER:  0 3 1 2 4 5 6 \n",
      "NOLOOP\n",
      "Work Done 13\n",
      "DFS ASSERT PASSED\n"
     ]
    },
    {
     "data": {
      "text/html": [
       "\n",
       "        <iframe\n",
       "            width=\"800\"\n",
       "            height=\"400\"\n",
       "            src=\"graphdata/dot/7dfs.pdf\"\n",
       "            frameborder=\"0\"\n",
       "            allowfullscreen\n",
       "            \n",
       "        ></iframe>\n",
       "        "
      ],
      "text/plain": [
       "<IPython.lib.display.IFrame at 0x107303eb0>"
      ]
     },
     "metadata": {},
     "output_type": "display_data"
    },
    {
     "name": "stdout",
     "output_type": "stream",
     "text": [
      "Testing Graph ends\n"
     ]
    }
   ],
   "source": [
    "main()"
   ]
  }
 ],
 "metadata": {
  "kernelspec": {
   "display_name": "Python 3 (ipykernel)",
   "language": "python",
   "name": "python3"
  },
  "language_info": {
   "codemirror_mode": {
    "name": "ipython",
    "version": 3
   },
   "file_extension": ".py",
   "mimetype": "text/x-python",
   "name": "python",
   "nbconvert_exporter": "python",
   "pygments_lexer": "ipython3",
   "version": "3.9.12"
  }
 },
 "nbformat": 4,
 "nbformat_minor": 4
}
