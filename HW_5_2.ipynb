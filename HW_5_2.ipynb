{
 "cells": [
  {
   "cell_type": "markdown",
   "metadata": {},
   "source": [
    "## 46. Permutations\n",
    "## https://leetcode.com/problems/permutations/\n",
    "## Jagadeesh Vasudevamurthy"
   ]
  },
  {
   "cell_type": "code",
   "execution_count": 1,
   "metadata": {},
   "outputs": [
    {
     "name": "stdout",
     "output_type": "stream",
     "text": [
      "3.9.12 (main, Apr  5 2022, 01:52:34) \n",
      "[Clang 12.0.0 ]\n"
     ]
    }
   ],
   "source": [
    "import sys\n",
    "import os\n",
    "from time import process_time \n",
    "print(sys.version)"
   ]
  },
  {
   "cell_type": "code",
   "execution_count": 2,
   "metadata": {},
   "outputs": [
    {
     "data": {
      "text/html": [
       "\n",
       "        <iframe\n",
       "            width=\"500\"\n",
       "            height=\"600\"\n",
       "            src=\"C:\\Users\\jag\\OneDrive\\vasu\\work\\leetcode\\0046\\py3\\notebook\\fig\\perm1.pdf\"\n",
       "            frameborder=\"0\"\n",
       "            allowfullscreen\n",
       "            \n",
       "        ></iframe>\n",
       "        "
      ],
      "text/plain": [
       "<IPython.lib.display.IFrame at 0x1208c3df0>"
      ]
     },
     "metadata": {},
     "output_type": "display_data"
    }
   ],
   "source": [
    "import os\n",
    "path = \"C:\\\\Users\\\\jag\\\\OneDrive\\\\vasu\\\\work\\\\leetcode\\\\0046\\\\py3\\\\notebook\\\\fig\\\\perm1.pdf\"\n",
    "rpath = os.path.relpath(path)\n",
    "from IPython.display import IFrame\n",
    "display(IFrame(rpath, width=500, height=600))"
   ]
  },
  {
   "cell_type": "code",
   "execution_count": 3,
   "metadata": {},
   "outputs": [],
   "source": [
    "############################################################\n",
    "# L0046.py\n",
    "# Author: Jagadeesh Vasudevamurthy\n",
    "# Copyright: Jagadeesh Vasudevamurthy 2020\n",
    "###########################################################\n",
    "############################################################\n",
    "# All imports\n",
    "###########################################################\n",
    "from typing import List\n",
    "from time import process_time \n",
    "\n",
    "class Solution:\n",
    "    ## YOU CANNOT CHANGE THIS INTERFACE\n",
    "    def permute(self, nums: List[int]) -> List[List[int]]:\n",
    "        self._ans = []\n",
    "        p = L0046(nums,self._ans,False)\n",
    "        return self._ans\n",
    "    \n",
    "class L0046:\n",
    "    def __init__(self,nums: List[int], ans:List[List[int]], show:'boolean'):\n",
    "        self._nums = nums \n",
    "        self._ans =  ans\n",
    "        self._show = show\n",
    "        self._alg()\n",
    "\n",
    "    def _alg(self):\n",
    "         self.permuteHelper(self._nums, 0, len(self._nums), self._ans)\n",
    "    \n",
    "    def permuteHelper(self, nums, start, end, result):\n",
    "        if start==end:\n",
    "            result.append(list(nums))\n",
    "            return \n",
    "        for i in range(start, end):\n",
    "            arr = self.swap(nums, i, start)\n",
    "            self.permuteHelper(nums, start+1, end, result)\n",
    "            arr = self.swap(nums, i, start)\n",
    "            \n",
    "    def swap(self, nums, start, end):\n",
    "        if start == end:\n",
    "            return nums\n",
    "        nums[start], nums[end] = nums[end], nums[start]\n",
    "        return nums"
   ]
  },
  {
   "cell_type": "markdown",
   "metadata": {},
   "source": [
    "##  CANNOT CHANGE ANYTHING BELOW"
   ]
  },
  {
   "cell_type": "markdown",
   "metadata": {},
   "source": [
    "## Util.py"
   ]
  },
  {
   "cell_type": "code",
   "execution_count": 4,
   "metadata": {},
   "outputs": [],
   "source": [
    "############################################################\n",
    "# Util.py\n",
    "# Author: Jagadeesh Vasudevamurthy\n",
    "# Copyright: Jagadeesh Vasudevamurthy 2020\n",
    "###########################################################\n",
    "\n",
    "############################################################\n",
    "# NOTHING CAN BE CHANGED IN THIS FILE\n",
    "###########################################################\n",
    "\n",
    "############################################################\n",
    "# All imports\n",
    "###########################################################\n",
    "import sys # For getting Python Version\n",
    "import random \n",
    "import math\n",
    "from time import process_time \n",
    "\n",
    "class Util():\n",
    "    pass\n",
    "\n",
    "    ############################################\n",
    "    # generate_random_number start to end INCLUDED \n",
    "    # start to end INCLUDED\n",
    "    #########################################\n",
    "    def generate_a_random_number(self,start:int,end:int)->'int':\n",
    "        v = random.randrange(start,end+1);\n",
    "        return v\n",
    "\n",
    "    ############################################\n",
    "    # generate_random_number GENERATES  N random numbers betweem \n",
    "    # start to end INCLUDED\n",
    "    # if onlypositive is False, generates both pos and negative number\n",
    "    #  randrange(beg, end, step) :- \n",
    "    #  beginning number (included in generation), \n",
    "    #  last number (excluded in generation) a\n",
    "    #  nd step ( to skip numbers in range while selecting).\n",
    "    #########################################\n",
    "    def generate_random_number(self, N:int, onlypositive:bool, start:int, end:int)->'List of integer':\n",
    "        a = []\n",
    "        for i in range(N):\n",
    "            v = self.generate_a_random_number(start,end);\n",
    "            if (onlypositive == False):\n",
    "                if ((i % 2) == 0): ##//Even. Half are positive, Half are negative\n",
    "                    v = -v ;\n",
    "            a.append(v)\n",
    "        return a\n",
    "  "
   ]
  },
  {
   "cell_type": "markdown",
   "metadata": {},
   "source": [
    "## TEST BENCH"
   ]
  },
  {
   "cell_type": "code",
   "execution_count": 5,
   "metadata": {},
   "outputs": [
    {
     "name": "stdout",
     "output_type": "stream",
     "text": [
      "Testing L0046Test Starts\n",
      "10 Random tests of size 9 Starts\n",
      "Total CPU time in sec = 7.31594\n",
      "10 Random tests of size 9 passed\n",
      "Testing L0046Test ENDS\n"
     ]
    }
   ],
   "source": [
    "############################################################\n",
    "# L0046Test.py\n",
    "# Author: Jagadeesh Vasudevamurthy\n",
    "# Copyright: Jagadeesh Vasudevamurthy 2020\n",
    "###########################################################\n",
    "############################################################\n",
    "# All imports\n",
    "###########################################################\n",
    "from typing import List\n",
    "from time import process_time \n",
    "\n",
    "class L0046Test:\n",
    "    def __init__(self):\n",
    "        self._u = Util() \n",
    "        self._test_bed()\n",
    "\n",
    "    def _fact(self,n:'int')->'int':\n",
    "        s = 1\n",
    "        for i in range(2,n+1):\n",
    "            s = s * i \n",
    "        return s\n",
    "\n",
    "    def _test_bed(self):\n",
    "        nums = [0,1]\n",
    "        ans = []\n",
    "        show = True\n",
    "        p = L0046(nums,ans,show)\n",
    "        assert(len(ans) == self._fact(len(nums)))\n",
    "\n",
    "        \n",
    "        nums = [1,2,3]\n",
    "        ans = []\n",
    "        show = True\n",
    "        p = L0046(nums,ans,show)\n",
    "        assert(len(ans) == self._fact(len(nums)))\n",
    "        \n",
    "        nums = ['tom','dick','harry']\n",
    "        ans = []\n",
    "        show = True\n",
    "        p = L0046(nums,ans,show)\n",
    "        assert(len(ans) == self._fact(len(nums)))\n",
    "        \n",
    "        nums = ['A','E','I','O','U']\n",
    "        ans = []\n",
    "        show = True\n",
    "        p = L0046(nums,ans,show)\n",
    "        assert(len(ans) == self._fact(len(nums)))\n",
    "\n",
    "        \n",
    "        show = False\n",
    "        N = 10\n",
    "        M = 9\n",
    "        print(N , \"Random tests of size\" , M , \"Starts\")\n",
    "        t1_start = process_time()\n",
    "        for i in range(N):\n",
    "            nums = self._u.generate_random_number(M,False,1,1000);\n",
    "            ans = [] \n",
    "            p = L0046(nums,ans,show)\n",
    "            assert(len(ans) == self._fact(len(nums)))\n",
    "        t1_stop = process_time() \n",
    "        d = t1_stop - t1_start; \n",
    "        print(\"Total CPU time in sec =\",d)\n",
    "        print(N , \"Random tests of size\" , M , \"passed\") \n",
    "\n",
    "############################################################\n",
    "# main \n",
    "# YOU CANNOT CHANGE ANYTHING BELOW\n",
    "###########################################################\n",
    "def main():\n",
    "    print(\"Testing L0046Test Starts\")\n",
    "    s = L0046Test()\n",
    "    print(\"Testing L0046Test ENDS\")\n",
    "\n",
    "############################################################\n",
    "# \n",
    "###########################################################\n",
    "if (__name__  == '__main__'):\n",
    "    main()"
   ]
  }
 ],
 "metadata": {
  "kernelspec": {
   "display_name": "Python 3 (ipykernel)",
   "language": "python",
   "name": "python3"
  },
  "language_info": {
   "codemirror_mode": {
    "name": "ipython",
    "version": 3
   },
   "file_extension": ".py",
   "mimetype": "text/x-python",
   "name": "python",
   "nbconvert_exporter": "python",
   "pygments_lexer": "ipython3",
   "version": "3.9.12"
  }
 },
 "nbformat": 4,
 "nbformat_minor": 4
}
